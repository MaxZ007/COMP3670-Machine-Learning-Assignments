{
 "cells": [
  {
   "cell_type": "markdown",
   "metadata": {},
   "source": [
    "## COMP3670/6670 Programming Assignment 1 - Linear Algebra and Analytic Geometry\n",
    "---\n",
    "\n",
    "**Enter Your Student ID:** \n",
    "\n",
    "**Your Name:**\n",
    "    \n",
    "**Deadline:**\n",
    "\n",
    "**Submit:** Write your answers in this file, and submit a single Jupyter Notebook file (.ipynb) on Wattle. Rename this file with your student number as 'uXXXXXXX.ipynb'.\n",
    "\n",
    "**Enter Discussion Partner IDs Below:**\n",
    "You could add more IDs with the same markdown format above.\n",
    "\n",
    "\n",
    "\n",
    "---\n",
    "**Marking distribution for the homework/assignment**\n",
    "\n",
    "- Task1 = 10%\n",
    "- Task2 = 30%\n",
    "- Task3 = 10%\n",
    "- Task4 = 50%"
   ]
  },
  {
   "cell_type": "markdown",
   "metadata": {},
   "source": [
    "## Task 0: Introduction\n",
    "---\n",
    "\n",
    "**NOTE:** *This part of the first assignment is by necessity somewhat tedious as its primary purpose is to introduce syntax, how to access and understand the Numpy documentation and some very basic concepts. If you are already familiar with Numpy, you can just read the **TASK** headings and complete the questions without worrying about all the additional information. This is designed for people who have never seen Numpy before, so it's a very easy 1st year style introduction to just introduce syntax.*\n",
    "\n",
    "*As this is a third year subject, it is assumed you already know to to program well (but may be unfamiliar with Python and Numpy).*\n",
    "\n",
    "---\n",
    "\n",
    "Arguably the most fundamental tool needed to engage with machine learning in Python is Numpy *(np)*. To include Numpy in any project, simply type the following line at the top of your python file:"
   ]
  },
  {
   "cell_type": "code",
   "execution_count": null,
   "metadata": {},
   "outputs": [],
   "source": [
    "# numpy\n",
    "import numpy as np\n",
    "\n",
    "!pip install sympy\n",
    "import sympy as sp\n",
    "\n",
    "# matplotlib\n",
    "import matplotlib.pyplot as plt\n",
    "%matplotlib inline"
   ]
  },
  {
   "cell_type": "markdown",
   "metadata": {},
   "source": [
    "A Jupyter Notebook is divided into cells, each of which works like a Python module or Latex file. When a cell is run, any cells that follow it will have access to its results. Running the above cell will give all following cells access to the Numpy library.\n",
    "\n",
    "-----------\n",
    "\n",
    "   **TASK 0.1:** To run the above cell, select it by clicking on it, hold **shift** and press **return**. If you have succeeded, then the cell will print \"Done\" just above.\n",
    "\n",
    "\n",
    "-----------\n",
    "\n",
    "Numpy is a library of common mathematical data structures and algorithms used in machine learning. For example:\n",
    "\n",
    "- It allows you to declare vectors and matrices, with all the associated mathematical operations like matrix vector products, matrix addition / subtraction.\n",
    "- It provides convenient, efficient implementations of algorithms to solve matrix equations, find the inverse of a matrix or perform Eigen decomposition. The implementation of these algorithms is compiled from C code, making Numpy much faster than programming these algorithms yourself in Python.\n",
    "\n",
    "You'll need to know Numpy inside and out. We'll start by getting you familiar with the easy to access online documentation and performing a few basic operations.\n",
    "\n",
    "Below I have declared the matrices: \n",
    "\n",
    "$$A = \n",
    "\\begin{bmatrix}\n",
    "2&3\\\\\n",
    "0&1\\\\\n",
    "\\end{bmatrix}\n",
    "\\\\\n",
    "x = \n",
    "\\begin{bmatrix}\n",
    "1\\\\\n",
    "3\\\\\n",
    "\\end{bmatrix}\n",
    "$$. \n",
    "\n",
    "---\n",
    "**TASK 0.2:** Run the cell below and observe what it prints.\n",
    "\n",
    "\n",
    "---\n",
    "(If it throws an error, you have the wrong version of python installed. This entire course will use Python 3, not Python 2)\n",
    "\n"
   ]
  },
  {
   "cell_type": "code",
   "execution_count": null,
   "metadata": {},
   "outputs": [],
   "source": [
    "A = np.array([[2, 3], [0, 1]])\n",
    "x = np.array([[1], [3]])\n",
    "\n",
    "#Matrix Multiplication Example\n",
    "b = A @ x\n",
    "print('\\nMatrix Multiplication')\n",
    "print(b)"
   ]
  },
  {
   "cell_type": "markdown",
   "metadata": {},
   "source": [
    "The above code illustrates how to perform matrix multiplication. Memorise it. Below are some other basic operations you'll likely need over the coming semester:"
   ]
  },
  {
   "cell_type": "code",
   "execution_count": null,
   "metadata": {},
   "outputs": [],
   "source": [
    "#Matrix Addition Example\n",
    "b = A + x\n",
    "print('\\nMatrix Addition')\n",
    "print(b)\n",
    "\n",
    "#Elementwise Multiplication Example\n",
    "b = A * x\n",
    "print('\\nElementwise Matrix Multiplication')\n",
    "print(b)\n",
    "\n",
    "#Extract a single element of a matrix:\n",
    "print('\\nSingle Element Extraction')\n",
    "b = A[0, 0]\n",
    "print(b)\n",
    "\n",
    "#Extract an entire column of a matrix:\n",
    "print('\\nColumn Extraction')\n",
    "b = A[:, 0]\n",
    "print(b)\n",
    "\n",
    "#Extract an entire row of a matrix:\n",
    "print('\\nRow Extraction')\n",
    "b = A[0, :]\n",
    "print(b)\n",
    "\n",
    "#Transpose of a matrix:\n",
    "print('\\nTranspose')\n",
    "A_Transpose = A.T\n",
    "print(A_Transpose)"
   ]
  },
  {
   "cell_type": "markdown",
   "metadata": {},
   "source": [
    "## Task1: Solving a system of linear equations\n",
    "---\n",
    "\n",
    "A vital part of linear algebra is to know how to solve a system of linear equations. For e.g. \n",
    "\n",
    "$$a_{11}x_1+a_{12}x_2 \\dots a_{1d}x_d=b_1$$\n",
    "$$a_{21}x_1+a_{22}x_2 \\dots a_{2d}x_d=b_2$$\n",
    "$$\\vdots$$\n",
    "$$a_{n1}x_1+a_{n2}x_2 \\dots a_{nd}x_d=b_n$$\n",
    "\n",
    "The above system of linear equations can also be written down in a compact matrix form as follows:\n",
    "\n",
    "$$AX = B$$\n",
    "\n",
    "where,\n",
    "$$A = \\begin{bmatrix}\n",
    "a_{11} & \\dots & a_{1d}\\\\\n",
    "\\vdots & \\ddots & \\vdots \\\\\n",
    "a_{n1} & \\dots & a_{nd}\n",
    "\\end{bmatrix}, \\quad\n",
    "B = \\begin{bmatrix}\n",
    "b_1 \\\\ \\vdots \\\\ b_n\n",
    "\\end{bmatrix}, \\quad\n",
    "X = \\begin{bmatrix}\n",
    "x_1 \\\\ \\vdots \\\\ x_d\n",
    "\\end{bmatrix}.\n",
    "$$"
   ]
  },
  {
   "cell_type": "markdown",
   "metadata": {},
   "source": [
    "---\n",
    "**Task 1.1**: Use numpy's solve function to compute X\n",
    "\n",
    "---\n",
    "**HINT**: https://docs.scipy.org/doc/numpy/reference/generated/numpy.linalg.solve.html"
   ]
  },
  {
   "cell_type": "code",
   "execution_count": null,
   "metadata": {},
   "outputs": [],
   "source": [
    "# define A,B\n",
    "A = np.array([[2, 3, 4], [0, 1, 3], [-1, 0, 2]])\n",
    "B = np.array([[3], [5],[7]])\n",
    "\n",
    "def solve_with_numpy(A,B):\n",
    "    ## YOUR CODE HERE\n",
    "\n",
    "# show solution\n",
    "X = solve_with_numpy(A,B)\n",
    "print (X)"
   ]
  },
  {
   "cell_type": "markdown",
   "metadata": {},
   "source": [
    "A more hands on way for solving for X, involves computing first computing the inverse of the matrix $A$\n",
    "\n",
    "---\n",
    "**Task 1.2**: Use numpy's inbuilt method for computing the inverse of the matrix $A$\n",
    "\n",
    "---\n",
    "\n",
    "**HINT**: https://docs.scipy.org/doc/numpy/reference/generated/numpy.linalg.inv.html"
   ]
  },
  {
   "cell_type": "code",
   "execution_count": null,
   "metadata": {},
   "outputs": [],
   "source": [
    "A = np.array([[2, 3, 4], [0, 1, 3], [-1, 0, 2]])\n",
    "\n",
    "A_inv = #YOUR CODE HERE\n",
    "print(A_inv)"
   ]
  },
  {
   "cell_type": "markdown",
   "metadata": {},
   "source": [
    "---\n",
    "**Task 1.3**: Use the inverse of matrix $A$, to solve for $X$\n",
    "\n",
    "---"
   ]
  },
  {
   "cell_type": "code",
   "execution_count": null,
   "metadata": {},
   "outputs": [],
   "source": [
    "A = np.array([[2, 3, 4], [0, 1, 3], [-1, 0, 2]])\n",
    "B = np.array([[3], [5], [7]])\n",
    "\n",
    "X = # YOUR CODE HERE\n",
    "\n",
    "print(X)"
   ]
  },
  {
   "cell_type": "markdown",
   "metadata": {},
   "source": [
    "But what if $A$ is not a square matrix?\n",
    "\n",
    "---\n",
    "**Task 1.4**: Compute the Moore-Penrose pseudo inverse for matrix $A$ and use it for computing $X$. Note that, you must not directly use `np.linalg.pinv` for computing the pseudo-inverse.\n",
    "\n",
    "---\n",
    "\n",
    "**HINT**: https://en.wikipedia.org/wiki/Moore–Penrose_inverse"
   ]
  },
  {
   "cell_type": "code",
   "execution_count": null,
   "metadata": {},
   "outputs": [],
   "source": [
    "A = np.array([[1, 3], [2, 7], [5, 1]])\n",
    "B = np.array([[13], [30], [9]])\n",
    "\n",
    "A_pseudo_inverse = #YOUR CODE HERE\n",
    "X =  #YOUR CODE HERE"
   ]
  },
  {
   "cell_type": "markdown",
   "metadata": {},
   "source": [
    "## Task 2: Gaussian elimination"
   ]
  },
  {
   "cell_type": "markdown",
   "metadata": {},
   "source": [
    "Lets practice Gaussian elimination without numpy!\n",
    "\n",
    "---\n",
    "**Task 2.1**:  Complete the following gaussian elimnation function to compute the **reduced row-echelon form** of matrix $A$. You must implement the gaussian elimination algorithm yourself, not merely call someone elses library function. You **MUST NOT** copy codes from any source. Your function needs to fit different shapes of matrices. \n",
    "\n",
    "---\n",
    "\n",
    "**HINT:** https://en.wikipedia.org/wiki/Gaussian_elimination"
   ]
  },
  {
   "cell_type": "code",
   "execution_count": null,
   "metadata": {},
   "outputs": [],
   "source": [
    "def gaussian_elim(X):\n",
    "    m, n = X.shape\n",
    "    res = np.zeros((m, n))\n",
    "    #YOUR CODE HERE\n",
    "    return res\n",
    "    "
   ]
  },
  {
   "cell_type": "code",
   "execution_count": null,
   "metadata": {},
   "outputs": [],
   "source": [
    "A = np.array([[1, 0, 1, 1],\n",
    "             [1, 0, 1, 1],\n",
    "             [0, 1, 1, 1],\n",
    "             [1, 1, 1, 0],\n",
    "             [1, 1, 1, 0]], dtype=np.float64)\n",
    "print(gaussian_elim(A))\n",
    "#The result should look like\n",
    "# [[ 1.,  0.,  0., -1.],\n",
    "#  [ 0.,  1.,  0., -1.],\n",
    "#  [-0., -0.,  1.,  2.],\n",
    "#  [ 0.,  0.,  0.,  0.],\n",
    "#  [ 0.,  0.,  0.,  0.]]"
   ]
  },
  {
   "cell_type": "code",
   "execution_count": null,
   "metadata": {},
   "outputs": [],
   "source": [
    "B = np.array([[2, 0, 3, 1, 0, 2],\n",
    "             [1, 3, 2, 0, 3, 1],\n",
    "             [3, 2, 3, 1, 1, 2]])\n",
    "print(gaussian_elim(B))\n",
    "#The result should look like\n",
    "# [[ 1.          0.          0.          0.36363636 -0.81818182  0.18181818]\n",
    "#  [ 0.          1.          0.         -0.18181818  0.90909091 -0.09090909]\n",
    "#  [ 0.          0.          1.          0.09090909  0.54545455  0.54545455]]"
   ]
  },
  {
   "cell_type": "markdown",
   "metadata": {},
   "source": [
    "We will evaluate your code with multiple different matrices."
   ]
  },
  {
   "cell_type": "markdown",
   "metadata": {},
   "source": [
    "---\n",
    "**Task 2.2**:  If a square matrix is invertible, how would its reduced row-echelon form looks like? Use no more than 3 sentences in your answer. \n",
    "\n",
    "---\n",
    "**Answer**"
   ]
  },
  {
   "cell_type": "markdown",
   "metadata": {},
   "source": [
    "## Task 3: Geometrical intuition for system of linear equations\n",
    "\n",
    "---\n",
    "\n",
    "In this task we will develop a geometrical intuition for solving the system of linear equations:\n",
    "\n",
    "$$AX=B$$\n",
    "\n",
    "where if you recall from before:\n",
    "\n",
    "$$A = \\begin{bmatrix}\n",
    "a_{11} & \\dots & a_{1d}\\\\\n",
    "\\vdots & \\ddots & \\vdots \\\\\n",
    "a_{n1} & \\dots & a_{nd}\n",
    "\\end{bmatrix}, \\quad\n",
    "B = \\begin{bmatrix}\n",
    "b_1 \\\\ \\vdots \\\\ b_n\n",
    "\\end{bmatrix}, \\quad\n",
    "X = \\begin{bmatrix}\n",
    "x_1 \\\\ \\vdots \\\\ x_d\n",
    "\\end{bmatrix}.\n",
    "$$\n",
    "\n",
    "This can also be written as:\n",
    "$$\n",
    "\\begin{bmatrix}\n",
    "a_{11} \\\\ \\vdots \\\\ a_{n1}\n",
    "\\end{bmatrix} \\ x_1\n",
    "+ \n",
    "\\begin{bmatrix}\n",
    "a_{12} \\\\ \\vdots \\\\ a_{n2}\n",
    "\\end{bmatrix} \\ x_2\n",
    "+ \\dots\n",
    "\\begin{bmatrix}\n",
    "a_{1d} \\\\ \\vdots \\\\ a_{nd}\n",
    "\\end{bmatrix} \\ x_d\n",
    "= \\begin{bmatrix}\n",
    "b_1 \\\\ \\vdots \\\\ b_n\n",
    "\\end{bmatrix}\n",
    "$$\n",
    "\n",
    "Thats is, solving the system of linear equations $AX=B$ is equivalent to finding a linear combination of the column vectors of matrix $A$, that result in $B$."
   ]
  },
  {
   "cell_type": "markdown",
   "metadata": {},
   "source": [
    "---\n",
    "**Task 3.1**: Given a matrix $A$ of shape (2 X 2), generate a plot containing arrows representing the column vectors of $A$.\n",
    "\n",
    "---\n",
    "**HINTS:** \n",
    "\n",
    "- For $A=I$, the plot should look something like:\n",
    "![title](https://upload.cc/i1/2019/08/01/LqQUbB.png)\n",
    "- You'll need to use plt.quiver() with angles='xy', scale_units='xy' and scale=1. \n",
    "    - https://matplotlib.org/3.1.1/api/_as_gen/matplotlib.pyplot.quiver.html"
   ]
  },
  {
   "cell_type": "code",
   "execution_count": null,
   "metadata": {
    "scrolled": true
   },
   "outputs": [],
   "source": [
    "origin = [0], [0]\n",
    "A = np.array([[2, 1], [1, 4]])\n",
    "\n",
    "#YOUR CODE HERE\n",
    "\n",
    "plt.xlim([-5,5])\n",
    "plt.ylim([-5,5])\n",
    "plt.title('Visualising coloumn vectors of a matrix')\n",
    "plt.show()"
   ]
  },
  {
   "cell_type": "markdown",
   "metadata": {},
   "source": [
    "---\n",
    "**Task 3.2**: To the above plot, now add an arrow (with different color) representing vector $B$. While doing so remember to:\n",
    "* Assign different labels to the arrows for matrix $A$ and $B$, using the keyword `label=A` or `label=B`.\n",
    "* Display the appropriate legend, with proper labels. Read more: https://matplotlib.org/api/_as_gen/matplotlib.pyplot.legend.html\n",
    "* Assign colored arrows for matrix $A$ as `color=blue` and arrow for vector $B$ as `color=red`\n",
    "---"
   ]
  },
  {
   "cell_type": "code",
   "execution_count": null,
   "metadata": {},
   "outputs": [],
   "source": [
    "origin = [0], [0]\n",
    "\n",
    "A = np.array([[2, 1], [1, 4]])\n",
    "B = np.array([[2], [2]])\n",
    "\n",
    "#YOUR CODE HERE\n",
    "\n",
    "plt.xlim([-5,5])\n",
    "plt.ylim([-5,5])\n",
    "plt.legend()\n",
    "plt.title('Visualising coloumn vectors of a matrix')\n",
    "plt.show()"
   ]
  },
  {
   "cell_type": "markdown",
   "metadata": {},
   "source": [
    "The above plot should convey a more intuitve picture than the simply looking at $AX=B$. Let's test our intuition!\n",
    "\n",
    "---\n",
    "**Task 3.3**: Without calculating, for $X = [x_1 \\ x_2]^T$, analytically comment on the magnitude of $x_1$ and $x_2$. That is first choose one of the following and then use no more than 3 sentences to explain your choice. \n",
    "1. $|x_1| > |x_2|$\n",
    "2. $|x_1| < |x_2|$\n",
    "3. $|x_1| \\approx |x_2|$\n",
    "\n",
    "---\n",
    "\n",
    "**Answer**"
   ]
  },
  {
   "cell_type": "markdown",
   "metadata": {},
   "source": [
    "## Task 4: Gram-Schmidt orthogonalization\n",
    "\n",
    "The Gram-Schmidt algorithm is used for finding an orthonormal basis for the subspace spanned by a set of vectors.\n",
    "\n",
    "Given a linearly independent set of vectors $S = \\lbrace \\mathbf{v_1}, \\mathbf{v_2}, ..., \\mathbf{v_n} \\rbrace$, an orthogonal set $S' = \\lbrace \\mathbf{u_1}, \\mathbf{u_2}, ..., \\mathbf{u_n} \\rbrace $ can be generated under this procedure:\n",
    "\n",
    "\n",
    "$\\mathbf{u_1} = \\mathbf{v_1}$\\\n",
    "$\\mathbf{u_2} = \\mathbf{v_2} - \\textrm{proj}_{\\mathbf{u_1}}(\\mathbf{v_2})$\\\n",
    "$\\mathbf{u_3} = \\mathbf{v_3} - \\textrm{proj}_{\\mathbf{u_1}}(\\mathbf{v_3}) - \\textrm{proj}_{\\mathbf{u_2}}(\\mathbf{v_3})$\\\n",
    "...\\\n",
    "$\\mathbf{u_n} = \\mathbf{v_n} - \\sum_{i=1}^{n-1}\\textrm{proj}_{\\mathbf{u_i}}(\\mathbf{v_n})$,\n",
    "\n",
    "where $\\textrm{proj}_{\\mathbf{u}}(\\mathbf{v}) = \\dfrac{\\langle \\mathbf{u}, \\mathbf{v} \\rangle}{\\langle \\mathbf{u}, \\mathbf{u} \\rangle}\\mathbf{u}$\n",
    "\n",
    "The orthogonal set is not normalized, you can normalize it by $\\mathbf{e_i} = \\dfrac{\\mathbf{u_i}}{||\\mathbf{u_i}||}$\n",
    "\n",
    "---\n",
    "**Read more:** https://en.wikipedia.org/wiki/Gram–Schmidt_process"
   ]
  },
  {
   "cell_type": "markdown",
   "metadata": {},
   "source": [
    "---\n",
    "**Task 4.1**: Implement a function that finds an orthonormal basis of column vectors for matrix $A$. The *gram_schmidt* function should be according to following specifications: \n",
    "* Take as input any matrix $A$.\n",
    "* Return a matrix with the orthonormal basis vectors as the columns.\n",
    "\n",
    "---\n",
    "**NOTE**: The resulting basis should be orthonormal, so each basis vector should be of norm 1."
   ]
  },
  {
   "cell_type": "code",
   "execution_count": null,
   "metadata": {},
   "outputs": [],
   "source": [
    "# Find orthonormal basis using gram-schmidt \n",
    "def gram_schmidt(A):\n",
    "    orthonormal_basis = []\n",
    "    \n",
    "    # YOUR CODE HERE\n",
    "    \n",
    "    return np.array(orthonormal_basis)\n",
    "\n",
    "print(gram_schmidt(A))"
   ]
  },
  {
   "cell_type": "markdown",
   "metadata": {},
   "source": [
    "---\n",
    "**TASK 4.2:** Implement a function that accepts a matrix and returns TRUE if all the columns of that matrix are orthogonal to one another, and each one of them is of length 1 (the L2 norm of each column vector is 1).\n",
    "\n",
    "Use this function to verify the output of your gram_schmidt function is an orthonormal basis for $A$.\n",
    "\n",
    "Again, you must program this function yourself, rather than relying on a library function.\n",
    "\n",
    "---\n",
    "\n",
    "**HINT:** \n",
    "- A pair of column vectors $v_1$ and $v_2$ are orthogonal to one another if and only if $v_1^Tv_2 = 0$. They form an orthonormal basis if they are all orthogonal to eachother, and they are each of length 1. https://en.wikipedia.org/wiki/Orthogonality\n",
    "- You can check whether your algorithms work using the last 6 lines in the code given below."
   ]
  },
  {
   "cell_type": "code",
   "execution_count": null,
   "metadata": {},
   "outputs": [],
   "source": [
    "def orthogonality_checker(A):\n",
    "    # YOUR CODE HERE\n",
    "\n",
    "true_test = np.eye(3,3)\n",
    "false_test = np.ones((3,3))\n",
    "print('\\nCHECKING TRUE TEST (SHOULD RETURN TRUE):')\n",
    "print(orthogonality_checker(true_test))\n",
    "print('\\nCHECKING FALSE TEST (SHOULD RETURN FALSE):')\n",
    "print(orthogonality_checker(false_test))"
   ]
  }
 ],
 "metadata": {
  "kernelspec": {
   "display_name": "Python 3",
   "language": "python",
   "name": "python3"
  },
  "language_info": {
   "codemirror_mode": {
    "name": "ipython",
    "version": 3
   },
   "file_extension": ".py",
   "mimetype": "text/x-python",
   "name": "python",
   "nbconvert_exporter": "python",
   "pygments_lexer": "ipython3",
   "version": "3.7.3"
  }
 },
 "nbformat": 4,
 "nbformat_minor": 2
}
